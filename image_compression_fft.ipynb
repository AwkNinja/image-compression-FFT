{
 "cells": [
  {
   "cell_type": "code",
   "execution_count": 3,
   "metadata": {
    "id": "xWSZFkNEJMnr"
   },
   "outputs": [],
   "source": [
    "import numpy as np\n",
    "import cv2\n",
    "import matplotlib.pyplot as plt"
   ]
  },
  {
   "cell_type": "code",
   "execution_count": 10,
   "metadata": {
    "colab": {
     "base_uri": "https://localhost:8080/",
     "height": 547
    },
    "id": "5iysaYY4HcuC",
    "outputId": "0fd1e362-601d-4b20-e4ee-cfd7d8d58161"
   },
   "outputs": [
    {
     "data": {
      "text/plain": [
       "True"
      ]
     },
     "execution_count": 10,
     "metadata": {},
     "output_type": "execute_result"
    }
   ],
   "source": [
    "# Load the image and convert it to grayscale\n",
    "image = cv2.imread('Untitled.png')\n",
    "cv2.imwrite(\"test1.png\",image)\n",
    "gray = cv2.cvtColor(image, cv2.COLOR_BGR2GRAY)\n",
    "\n",
    "# Resize the image if necessary\n",
    "#resized = cv2.resize(image, (200, 200))\n",
    "\n",
    "# Perform FFT on the image\n",
    "f = np.fft.fftn(image)\n",
    "\n",
    "# Shift the frequencies so that the low frequencies are in the center\n",
    "fshift = np.fft.fftshift(f)\n",
    "\n",
    "# Eliminate the high frequencies by setting them to zero\n",
    "rows, cols = image.shape[:2]\n",
    "crow, ccol = int(rows/2), int(cols/2)\n",
    "fshift[crow-30:crow+30, ccol-30:ccol+30] = 0\n",
    "\n",
    "# Shift the frequencies back to their original positions\n",
    "f_ishift = np.fft.ifftshift(fshift)\n",
    "\n",
    "# Perform inverse FFT to get the image back\n",
    "img_back = np.fft.ifftn(f_ishift)\n",
    "img_back = np.abs(img_back)\n",
    "\n",
    "cv2.imwrite(\"test2.jpg\",img_back)\n",
    "#cv2.imshow(img_back)"
   ]
  },
  {
   "cell_type": "code",
   "execution_count": 4,
   "metadata": {},
   "outputs": [
    {
     "data": {
      "text/plain": [
       "True"
      ]
     },
     "execution_count": 4,
     "metadata": {},
     "output_type": "execute_result"
    }
   ],
   "source": [
    "import numpy as np\n",
    "import cv2\n",
    "\n",
    "# Load the image\n",
    "image = cv2.imread('Untitled.png')\n",
    "\n",
    "# Resize the image if necessary\n",
    "#resized = cv2.resize(image, (200, 200))\n",
    "\n",
    "# Split the image into the three color channels\n",
    "b, g, r = cv2.split(image)\n",
    "\n",
    "# Perform FFT on each channel\n",
    "f_b = np.fft.fft2(b)\n",
    "f_g = np.fft.fft2(g)\n",
    "f_r = np.fft.fft2(r)\n",
    "\n",
    "# Shift the frequencies so that the low frequencies are in the center\n",
    "fshift_b = np.fft.fftshift(f_b)\n",
    "fshift_g = np.fft.fftshift(f_g)\n",
    "fshift_r = np.fft.fftshift(f_r)\n",
    "\n",
    "# Eliminate the high frequencies by setting them to zero\n",
    "rows, cols = image.shape[:2]\n",
    "crow, ccol = int(rows/2), int(cols/2)\n",
    "fshift_b[crow-1:crow+1, ccol-1:ccol+1] = 0\n",
    "fshift_g[crow-1:crow+1, ccol-1:ccol+1] = 0\n",
    "fshift_r[crow-1:crow+1, ccol-1:ccol+1] = 0\n",
    "\n",
    "# Shift the frequencies back to their original positions\n",
    "f_ishift_b = np.fft.ifftshift(fshift_b)\n",
    "f_ishift_g = np.fft.ifftshift(fshift_g)\n",
    "f_ishift_r = np.fft.ifftshift(fshift_r)\n",
    "\n",
    "# Perform inverse FFT to get the image back\n",
    "img_back_b = np.fft.ifft2(f_ishift_b)\n",
    "img_back_g = np.fft.ifft2(f_ishift_g)\n",
    "img_back_r = np.fft.ifft2(f_ishift_r)\n",
    "img_back_b = np.abs(img_back_b)\n",
    "img_back_g = np.abs(img_back_g)\n",
    "img_back_r = np.abs(img_back_r)\n",
    "\n",
    "# Merge the channels back into a single image\n",
    "img_back = cv2.merge((img_back_b, img_back_g, img_back_r))\n",
    "\n",
    "# Save the compressed image\n",
    "cv2.imwrite('compressed.png', img_back)\n"
   ]
  },
  {
   "cell_type": "code",
   "execution_count": null,
   "metadata": {},
   "outputs": [],
   "source": []
  }
 ],
 "metadata": {
  "colab": {
   "provenance": []
  },
  "kernelspec": {
   "display_name": "Python 3 (ipykernel)",
   "language": "python",
   "name": "python3"
  },
  "language_info": {
   "codemirror_mode": {
    "name": "ipython",
    "version": 3
   },
   "file_extension": ".py",
   "mimetype": "text/x-python",
   "name": "python",
   "nbconvert_exporter": "python",
   "pygments_lexer": "ipython3",
   "version": "3.9.7"
  }
 },
 "nbformat": 4,
 "nbformat_minor": 1
}
