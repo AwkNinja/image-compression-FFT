{
 "cells": [
  {
   "cell_type": "code",
   "execution_count": 1,
   "metadata": {
    "id": "xWSZFkNEJMnr"
   },
   "outputs": [],
   "source": [
    "import numpy as np\n",
    "import cv2"
   ]
  },
  {
   "cell_type": "code",
   "execution_count": 9,
   "metadata": {
    "colab": {
     "base_uri": "https://localhost:8080/",
     "height": 547
    },
    "id": "5iysaYY4HcuC",
    "outputId": "0fd1e362-601d-4b20-e4ee-cfd7d8d58161"
   },
   "outputs": [
    {
     "data": {
      "text/plain": [
       "True"
      ]
     },
     "execution_count": 9,
     "metadata": {},
     "output_type": "execute_result"
    }
   ],
   "source": [
    "# Load the image\n",
    "image = cv2.imread('grasshopper.png')\n",
    "\n",
    "# Resize the image if necessary\n",
    "#resized = cv2.resize(image, (200, 200))\n",
    "\n",
    "# Perform FFT on the image\n",
    "f = np.fft.fftn(image)\n",
    "\n",
    "# Shift the frequencies so that the low frequencies are in the center\n",
    "fshift = np.fft.fftshift(f)\n",
    "\n",
    "# Eliminate the high frequencies by setting them to zero\n",
    "rows, cols = image.shape[:2]\n",
    "crow, ccol = int(rows/2), int(cols/2)\n",
    "fshift[crow-1:crow+1, ccol-1:ccol+1] = 0\n",
    "\n",
    "# Shift the frequencies back to their original positions\n",
    "f_ishift = np.fft.ifftshift(fshift)\n",
    "\n",
    "# Perform inverse FFT to get the image back\n",
    "img_back = np.fft.ifftn(f_ishift)\n",
    "img_back = np.abs(img_back)\n",
    "\n",
    "cv2.imwrite(\"compressed.png\",img_back)"
   ]
  }
 ],
 "metadata": {
  "colab": {
   "provenance": []
  },
  "kernelspec": {
   "display_name": "Python 3 (ipykernel)",
   "language": "python",
   "name": "python3"
  },
  "language_info": {
   "codemirror_mode": {
    "name": "ipython",
    "version": 3
   },
   "file_extension": ".py",
   "mimetype": "text/x-python",
   "name": "python",
   "nbconvert_exporter": "python",
   "pygments_lexer": "ipython3",
   "version": "3.9.7"
  }
 },
 "nbformat": 4,
 "nbformat_minor": 1
}
